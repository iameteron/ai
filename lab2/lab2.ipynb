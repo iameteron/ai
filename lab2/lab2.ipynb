{
 "cells": [
  {
   "cell_type": "code",
   "execution_count": 46,
   "metadata": {},
   "outputs": [],
   "source": [
    "import pygmo as pg\n",
    "from test_functions import *"
   ]
  },
  {
   "cell_type": "code",
   "execution_count": 53,
   "metadata": {},
   "outputs": [
    {
     "name": "stdout",
     "output_type": "stream",
     "text": [
      "Rosenbrock_problem\n",
      "Particle Swarm Optimization [0.0390587]\n",
      "Differential Evolution [6.74245099e-17]\n",
      "Artificial Bee Colony [0.00188379]\n",
      "Covariance Matrix Evolutionary Strategy [0.05015383]\n",
      "Booths_problem\n",
      "Particle Swarm Optimization [2.00000001]\n",
      "Differential Evolution [2.]\n",
      "Artificial Bee Colony [2.]\n",
      "Covariance Matrix Evolutionary Strategy [2.00286008]\n"
     ]
    }
   ],
   "source": [
    "class Rosenbrock_problem:\n",
    "    def fitness(self, x):\n",
    "        return [Rosenbrock_function(x)]\n",
    "\n",
    "    def get_bounds(self):\n",
    "        return ([-10, -10], [10, 10])\n",
    "\n",
    "\n",
    "class Booths_problem:\n",
    "    def fitness(self, x):\n",
    "        return [Booths_function(x)]\n",
    "\n",
    "    def get_bounds(self):\n",
    "        return ([-10, -10], [10, 10])\n",
    "\n",
    "\n",
    "problems = [Rosenbrock_problem(), Booths_problem()]\n",
    "algorithms = [pg.pso(), pg.de(), pg.bee_colony(), pg.cmaes()]\n",
    "names = [\n",
    "    \"Particle Swarm Optimization\",\n",
    "    \"Differential Evolution\",\n",
    "    \"Artificial Bee Colony\",\n",
    "    \"Covariance Matrix Evolutionary Strategy\",\n",
    "]\n",
    "\n",
    "num_generations = 50  \n",
    "\n",
    "for problem in problems:\n",
    "    print(problem.__class__.__name__)\n",
    "    problem = pg.problem(problem)\n",
    "    for algo, name in zip(algorithms, names):\n",
    "        algo = pg.algorithm(algo)\n",
    "        population = pg.population(problem, 10)\n",
    "        pop_history = [population.get_x()]\n",
    "\n",
    "        for _ in range(num_generations):\n",
    "            population = algo.evolve(population)\n",
    "            pop_history.append(population.get_x())\n",
    "\n",
    "        print(name, population.champion_f)"
   ]
  },
  {
   "cell_type": "code",
   "execution_count": null,
   "metadata": {},
   "outputs": [],
   "source": []
  }
 ],
 "metadata": {
  "kernelspec": {
   "display_name": ".venv",
   "language": "python",
   "name": "python3"
  },
  "language_info": {
   "codemirror_mode": {
    "name": "ipython",
    "version": 3
   },
   "file_extension": ".py",
   "mimetype": "text/x-python",
   "name": "python",
   "nbconvert_exporter": "python",
   "pygments_lexer": "ipython3",
   "version": "3.10.12"
  }
 },
 "nbformat": 4,
 "nbformat_minor": 2
}
